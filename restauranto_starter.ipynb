{
 "cells": [
  {
   "cell_type": "code",
   "execution_count": 11,
   "id": "19729949",
   "metadata": {},
   "outputs": [],
   "source": [
    "import requests\n",
    "from api_keys import google_maps_key\n",
    "from api_keys import yelp_key\n",
    "\n",
    "# Set up the Yelp API endpoint URL\n",
    "base_url = 'https://api.yelp.com/v3/businesses/search'\n",
    "\n",
    "# Set up the Google Geocoding API endpoint URL\n",
    "geocoding_url = 'https://maps.googleapis.com/maps/api/geocode/json'"
   ]
  },
  {
   "cell_type": "code",
   "execution_count": 28,
   "id": "3ba479b0",
   "metadata": {},
   "outputs": [
    {
     "name": "stdout",
     "output_type": "stream",
     "text": [
      "Enter an address: 225 43rd St, Sacramento, CA\n"
     ]
    }
   ],
   "source": [
    "address = input('Enter an address: ')\n",
    "#2156 North Claremont Ave, Chicago, IL 60647"
   ]
  },
  {
   "cell_type": "code",
   "execution_count": 19,
   "id": "5406121e",
   "metadata": {},
   "outputs": [],
   "source": [
    "def fetch_restaurants(latitude, longitude):\n",
    "    headers = {\n",
    "        'Authorization': f'Bearer {yelp_key}'\n",
    "    }\n",
    "\n",
    "    params = {\n",
    "        'latitude': latitude,\n",
    "        'longitude': longitude,\n",
    "        'radius': 1000,\n",
    "        'categories': 'restaurants',\n",
    "        'limit': 50\n",
    "    }\n",
    "\n",
    "    response = requests.get(base_url, headers=headers, params=params)\n",
    "\n",
    "    if response.status_code == 200:\n",
    "        restaurant_data = response.json()\n",
    "        return restaurant_data.get('businesses', [])\n",
    "    else:\n",
    "        print('Error occurred while fetching restaurant data.')\n",
    "        return []\n"
   ]
  },
  {
   "cell_type": "code",
   "execution_count": 33,
   "id": "edf237e6",
   "metadata": {},
   "outputs": [],
   "source": [
    "def geocode_address(address):\n",
    "    params = {\n",
    "        'address': address,\n",
    "        'key': google_maps_key\n",
    "    }\n",
    "\n",
    "    response = requests.get(geocoding_url, params=params)\n",
    "\n",
    "    if response.status_code == 200:\n",
    "        geocoding_data = response.json()\n",
    "\n",
    "        results = geocoding_data.get('results', [])\n",
    "\n",
    "        if results:\n",
    "            location = results[0].get('geometry', {}).get('location')\n",
    "            latitude = location.get('lat')\n",
    "            longitude = location.get('lng')\n",
    "            return latitude, longitude\n",
    "        else:\n",
    "            return None\n",
    "    else:\n",
    "        return None"
   ]
  },
  {
   "cell_type": "code",
   "execution_count": 37,
   "id": "6973d9fc",
   "metadata": {},
   "outputs": [
    {
     "name": "stdout",
     "output_type": "stream",
     "text": [
      "Total restaurants found: 20\n",
      "THAI - The House Of Authentic Ingredients\n",
      "The Green Room\n",
      "Selland's Market Cafe\n",
      "Orphan Breakfast House\n",
      "Poppy by Mama Kim\n",
      "Juno's Kitchen & Delicatessen\n",
      "Casa East Sac\n",
      "Vibe Health Bar\n",
      "Cousins Maine Lobster - Sacramento\n",
      "New Kathmandu Kitchen\n",
      "Druthers Sutter Park \n",
      "Mr Falafel\n",
      "Midtown Taqueria\n",
      "Steve’s Pizza\n",
      "Tiferet Coffee House\n",
      "Pizza Guys\n",
      "Calzone Life\n",
      "Tina's Tacos & Catering\n",
      "Brown Rice Bakery\n",
      "J Street Bistro - Mercy General Hospital\n"
     ]
    }
   ],
   "source": [
    "def restaurant_names(address):\n",
    "    \n",
    "    location = geocode_address(address)\n",
    "\n",
    "    if location:\n",
    "        latitude, longitude = location\n",
    "    else:\n",
    "        return 'Error occurred while geocoding the address.'\n",
    "\n",
    "    restaurants = fetch_restaurants(latitude, longitude)\n",
    "\n",
    "    if restaurants:\n",
    "        restaurant_names = [restaurant.get('name') for restaurant in restaurants]\n",
    "        count = len(restaurant_names)\n",
    "        print(f'Total restaurants found: {count}')\n",
    "        for name in restaurant_names:\n",
    "            print(name)\n",
    "    else:\n",
    "        return 'No restaurants found within the specified radius.'\n",
    "\n",
    "\n",
    "restaurant_names(address)"
   ]
  },
  {
   "cell_type": "code",
   "execution_count": 34,
   "id": "ff5a7d2e",
   "metadata": {},
   "outputs": [
    {
     "name": "stdout",
     "output_type": "stream",
     "text": [
      "Pizza: 5\n",
      "Sandwiches: 4\n",
      "Bars: 2\n",
      "Cafes: 2\n",
      "Bakeries: 2\n",
      "Breakfast & Brunch: 2\n",
      "Wraps: 2\n",
      "Seafood: 2\n",
      "Food Trucks: 2\n",
      "Coffee & Tea: 2\n",
      "Thai: 1\n",
      "Gastropubs: 1\n",
      "Lounges: 1\n",
      "Caterers: 1\n",
      "American (New): 1\n",
      "Pop-Up Restaurants: 1\n",
      "Delis: 1\n",
      "Beer, Wine & Spirits: 1\n",
      "American (Traditional): 1\n",
      "Juice Bars & Smoothies: 1\n",
      "Himalayan/Nepalese: 1\n",
      "Indian: 1\n",
      "Waffles: 1\n",
      "Burgers: 1\n",
      "Mexican: 1\n",
      "Salad: 1\n",
      "Food Delivery Services: 1\n",
      "Italian: 1\n",
      "Tacos: 1\n",
      "Gluten-Free: 1\n",
      "Vegan: 1\n",
      "Cafeteria: 1\n"
     ]
    }
   ],
   "source": [
    "def restaurant_types(address):\n",
    "    location = geocode_address(address)\n",
    "\n",
    "    if location:\n",
    "        latitude, longitude = location\n",
    "    else:\n",
    "        return 'Error occurred while geocoding the address.'\n",
    "\n",
    "    restaurants = fetch_restaurants(latitude, longitude)\n",
    "\n",
    "    if restaurants:\n",
    "        restaurant_counts = {}\n",
    "        for restaurant in restaurants:\n",
    "            categories = restaurant.get('categories', [])\n",
    "            for category in categories:\n",
    "                title = category.get('title')\n",
    "                restaurant_counts[title] = restaurant_counts.get(title, 0) + 1\n",
    "\n",
    "        sorted_counts = dict(sorted(restaurant_counts.items(), key=lambda x: x[1], reverse=True))\n",
    "\n",
    "        # Print the restaurant types and counts in descending order\n",
    "        for category, count in sorted_counts.items():\n",
    "            print(f'{category}: {count}')\n",
    "\n",
    "    else:\n",
    "        return 'No restaurants found.'\n",
    "\n",
    "\n",
    "restaurant_types(address)"
   ]
  },
  {
   "cell_type": "code",
   "execution_count": 43,
   "id": "deb7296a",
   "metadata": {},
   "outputs": [
    {
     "data": {
      "text/plain": [
       "'Average rating: 4.175'"
      ]
     },
     "execution_count": 43,
     "metadata": {},
     "output_type": "execute_result"
    }
   ],
   "source": [
    "def avg_rating(address):\n",
    "    location = geocode_address(address)\n",
    "\n",
    "    if location:\n",
    "        latitude, longitude = location\n",
    "    else:\n",
    "        return 'Error occurred while geocoding the address.'\n",
    "\n",
    "    restaurants = fetch_restaurants(latitude, longitude)\n",
    "\n",
    "    if restaurants:\n",
    "        total_rating = 0\n",
    "        total_restaurants = 0\n",
    "\n",
    "        for restaurant in restaurants:\n",
    "            rating = restaurant.get('rating')\n",
    "            if rating:\n",
    "                total_rating += rating\n",
    "                total_restaurants += 1\n",
    "\n",
    "        if total_restaurants > 0:\n",
    "            avg_rating = total_rating / total_restaurants\n",
    "            return f'Average rating: {avg_rating}'\n",
    "        else:\n",
    "            return 'No ratings available for restaurants in the specified area.'\n",
    "    else:\n",
    "        return 'No restaurants found.'\n",
    "\n",
    "avg_rating(address)"
   ]
  }
 ],
 "metadata": {
  "kernelspec": {
   "display_name": "Python 3 (ipykernel)",
   "language": "python",
   "name": "python3"
  },
  "language_info": {
   "codemirror_mode": {
    "name": "ipython",
    "version": 3
   },
   "file_extension": ".py",
   "mimetype": "text/x-python",
   "name": "python",
   "nbconvert_exporter": "python",
   "pygments_lexer": "ipython3",
   "version": "3.9.16"
  }
 },
 "nbformat": 4,
 "nbformat_minor": 5
}
