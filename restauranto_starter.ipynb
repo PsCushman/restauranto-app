{
 "cells": [
  {
   "cell_type": "code",
   "execution_count": 1,
   "id": "19729949",
   "metadata": {},
   "outputs": [],
   "source": [
    "import requests\n",
    "from api_keys import google_maps_key\n",
    "from api_keys import yelp_key\n",
    "\n",
    "# Set up the Yelp API endpoint URL\n",
    "base_url = 'https://api.yelp.com/v3/businesses/search'\n",
    "\n",
    "# Set up the Google Geocoding API endpoint URL\n",
    "geocoding_url = 'https://maps.googleapis.com/maps/api/geocode/json'"
   ]
  },
  {
   "cell_type": "code",
   "execution_count": 12,
   "id": "eb94afae",
   "metadata": {},
   "outputs": [],
   "source": [
    "def fetch_restaurants(latitude, longitude):\n",
    "    headers = {\n",
    "        'Authorization': f'Bearer {yelp_key}'\n",
    "    }\n",
    "\n",
    "    params = {\n",
    "        'latitude': latitude,\n",
    "        'longitude': longitude,\n",
    "        'radius': 1000,\n",
    "        'categories': 'restaurants',\n",
    "        'limit': 50\n",
    "    }\n",
    "\n",
    "    response = requests.get(base_url, headers=headers, params=params)\n",
    "\n",
    "    if response.status_code == 200:\n",
    "        restaurant_data = response.json()\n",
    "        return restaurant_data.get('businesses', [])\n",
    "    else:\n",
    "        print('Error occurred while fetching restaurant data.')\n",
    "        return []\n"
   ]
  },
  {
   "cell_type": "code",
   "execution_count": 13,
   "id": "cd1715b8",
   "metadata": {},
   "outputs": [
    {
     "name": "stdout",
     "output_type": "stream",
     "text": [
      "Enter an address: 2156 North Claremont Ave, Chicago, IL 60647\n"
     ]
    }
   ],
   "source": [
    "address = input('Enter an address: ')\n",
    "#2156 North Claremont Ave, Chicago, IL 60647"
   ]
  },
  {
   "cell_type": "code",
   "execution_count": 14,
   "id": "b6ed0a12",
   "metadata": {},
   "outputs": [
    {
     "name": "stdout",
     "output_type": "stream",
     "text": [
      "Total number of restaurants: 50\n",
      "Restaurant counts by category:\n",
      "Cocktail Bars: 2\n",
      "Ramen: 1\n",
      "Mexican: 5\n",
      "Malaysian: 1\n",
      "Tacos: 1\n",
      "Italian: 3\n",
      "Cuban: 3\n",
      "Pizza: 3\n",
      "Latin American: 3\n",
      "Burgers: 1\n",
      "Poke: 1\n",
      "Bars: 2\n",
      "French: 1\n",
      "Breakfast & Brunch: 2\n",
      "Modern European: 1\n",
      "Breweries: 1\n",
      "American (New): 2\n",
      "Korean: 1\n",
      "Thai: 2\n",
      "Barbeque: 1\n",
      "Fast Food: 1\n",
      "Sushi Bars: 4\n",
      "Gastropubs: 1\n",
      "Steakhouses: 1\n",
      "Chocolatiers & Shops: 1\n",
      "Hot Dogs: 1\n",
      "Coffee & Tea: 1\n",
      "Indian: 1\n",
      "Cafes: 2\n"
     ]
    }
   ],
   "source": [
    "params = {\n",
    "    'address': address,\n",
    "    'key': google_maps_key\n",
    "}\n",
    "\n",
    "response = requests.get(geocoding_url, params=params)\n",
    "\n",
    "if response.status_code == 200:\n",
    "    geocoding_data = response.json()\n",
    "\n",
    "    results = geocoding_data.get('results', [])\n",
    "\n",
    "    if results:\n",
    "        location = results[0].get('geometry', {}).get('location')\n",
    "        latitude = location.get('lat')\n",
    "        longitude = location.get('lng')\n",
    "\n",
    "        restaurants = fetch_restaurants(latitude, longitude)\n",
    "\n",
    "        if restaurants:\n",
    "            print(f'Total number of restaurants: {len(restaurants)}')\n",
    "\n",
    "            restaurant_counts = {}\n",
    "            for restaurant in restaurants:\n",
    "                category = restaurant.get('categories', [{}])[0].get('title')\n",
    "                restaurant_counts[category] = restaurant_counts.get(category, 0) + 1\n",
    "\n",
    "            print('Restaurant counts by category:')\n",
    "            for category, count in restaurant_counts.items():\n",
    "                print(f'{category}: {count}')\n",
    "        else:\n",
    "            print('No restaurants found within the specified radius.')\n",
    "    else:\n",
    "        print('No results found for the given address.')\n",
    "else:\n",
    "    print('Error occurred while geocoding the address.')"
   ]
  },
  {
   "cell_type": "code",
   "execution_count": 5,
   "id": "df86038b",
   "metadata": {},
   "outputs": [
    {
     "name": "stdout",
     "output_type": "stream",
     "text": [
      "Enter latitude: 41.92166722859687\n",
      "Enter longitude: -87.68671808006695\n",
      "Total number of restaurants: 20\n",
      "Restaurant counts by category:\n",
      "Cocktail Bars: 1\n",
      "Ramen: 1\n",
      "Mexican: 2\n",
      "Malaysian: 1\n",
      "Tacos: 1\n",
      "Italian: 1\n",
      "Pizza: 2\n",
      "Latin American: 1\n",
      "Burgers: 1\n",
      "Cuban: 1\n",
      "Bars: 2\n",
      "Breakfast & Brunch: 1\n",
      "Modern European: 1\n",
      "French: 1\n",
      "Poke: 1\n",
      "Breweries: 1\n",
      "American (New): 1\n"
     ]
    }
   ],
   "source": [
    "# def fetch_restaurants(latitude, longitude):\n",
    "#     headers = {\n",
    "#         'Authorization': f'Bearer {yelp_key}'\n",
    "#     }\n",
    "\n",
    "#     # Set the query parameters for the Yelp API request\n",
    "#     params = {\n",
    "#         'latitude': latitude,\n",
    "#         'longitude': longitude,\n",
    "#         'radius': 1000,  # 1 km radius\n",
    "#         'categories': 'restaurants'\n",
    "#     }\n",
    "\n",
    "#     # Send the Yelp API request\n",
    "#     response = requests.get(base_url, headers=headers, params=params)\n",
    "\n",
    "#     # Check if the request was successful\n",
    "#     if response.status_code == 200:\n",
    "#         restaurant_data = response.json()\n",
    "#         return restaurant_data.get('businesses', [])\n",
    "#     else:\n",
    "#         print('Error occurred while fetching restaurant data.')\n",
    "#         return []\n",
    "\n",
    "# # Prompt the user for latitude and longitude\n",
    "# latitude = float(input('Enter latitude: '))\n",
    "# longitude = float(input('Enter longitude: '))\n",
    "\n",
    "# restaurants = fetch_restaurants(latitude, longitude)\n",
    "\n",
    "# if restaurants:\n",
    "#     # Display restaurant information\n",
    "#     print(f'Total number of restaurants: {len(restaurants)}')\n",
    "\n",
    "#     # Count the types of restaurants\n",
    "#     restaurant_counts = {}\n",
    "#     for restaurant in restaurants:\n",
    "#         category = restaurant.get('categories', [{}])[0].get('title')\n",
    "#         restaurant_counts[category] = restaurant_counts.get(category, 0) + 1\n",
    "\n",
    "#     print('Restaurant counts by category:')\n",
    "#     for category, count in restaurant_counts.items():\n",
    "#         print(f'{category}: {count}')\n",
    "# else:\n",
    "#     print('No restaurants found within the specified radius.')\n",
    "#41.92166722859687, -87.68671808006695"
   ]
  }
 ],
 "metadata": {
  "kernelspec": {
   "display_name": "Python 3 (ipykernel)",
   "language": "python",
   "name": "python3"
  },
  "language_info": {
   "codemirror_mode": {
    "name": "ipython",
    "version": 3
   },
   "file_extension": ".py",
   "mimetype": "text/x-python",
   "name": "python",
   "nbconvert_exporter": "python",
   "pygments_lexer": "ipython3",
   "version": "3.9.16"
  }
 },
 "nbformat": 4,
 "nbformat_minor": 5
}
